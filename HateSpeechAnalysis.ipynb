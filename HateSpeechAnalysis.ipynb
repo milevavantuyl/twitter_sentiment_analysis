{
 "cells": [
  {
   "cell_type": "markdown",
   "metadata": {},
   "source": [
    "# Sentiment Analysis and Hate-Speech Detection on Tweets"
   ]
  },
  {
   "cell_type": "markdown",
   "metadata": {},
   "source": [
    "The following notebook consists on three main sections:\n",
    "1. <b>Data Exploration and Preprocessing:</b> In this section the following datasets from Kaggle are explored and cleaned:\n",
    "    - Sentiment Dataset: https://www.kaggle.com/datasets/kazanova/sentiment140\n",
    "    - Hate Speech Dataset: https://www.kaggle.com/datasets/mrmorj/hate-speech-and-offensive-language-dataset\n",
    "<br></br>\n",
    "2. <b>Sentiment Classification Models:</b> In this section we build and train two models to classify sentiment data into the categories Negative and Positive\n",
    "    - Naive Bayes\n",
    "    - LSTM\n",
    "<br></br>\n",
    "3. <b>Application of Sentiment Classification Models on Hate Speech Data:</b> In this section we apply the previously trained models on hate speech data to determine if they perform well in identifying a predominant negative sentiment. Additionally, we apply a pretrained model called VADER, which was trained for Hate Speech detection."
   ]
  },
  {
   "cell_type": "code",
   "execution_count": 1,
   "metadata": {},
   "outputs": [],
   "source": [
    "import pandas as pd\n",
    "import time\n",
    "from sklearn.feature_extraction.text import TfidfVectorizer\n",
    "from sklearn.preprocessing import FunctionTransformer\n",
    "from sklearn.naive_bayes import MultinomialNB\n",
    "from sklearn.pipeline import Pipeline\n",
    "from sklearn.model_selection import train_test_split\n",
    "from helper_functions import *\n",
    "import numpy as np\n",
    "from sklearn.metrics import accuracy_score, f1_score, precision_score, recall_score\n"
   ]
  },
  {
   "cell_type": "markdown",
   "metadata": {},
   "source": [
    "# 1. Data Exploration and Preprocessing"
   ]
  },
  {
   "cell_type": "markdown",
   "metadata": {
    "tags": []
   },
   "source": [
    "## Sentiment Data"
   ]
  },
  {
   "cell_type": "markdown",
   "metadata": {},
   "source": [
    "This dataset contains tweets tagged as Positive or Negative according to their predominant emotion."
   ]
  },
  {
   "cell_type": "code",
   "execution_count": 2,
   "metadata": {},
   "outputs": [
    {
     "data": {
      "text/html": [
       "<div>\n",
       "<style scoped>\n",
       "    .dataframe tbody tr th:only-of-type {\n",
       "        vertical-align: middle;\n",
       "    }\n",
       "\n",
       "    .dataframe tbody tr th {\n",
       "        vertical-align: top;\n",
       "    }\n",
       "\n",
       "    .dataframe thead th {\n",
       "        text-align: right;\n",
       "    }\n",
       "</style>\n",
       "<table border=\"1\" class=\"dataframe\">\n",
       "  <thead>\n",
       "    <tr style=\"text-align: right;\">\n",
       "      <th></th>\n",
       "      <th>target</th>\n",
       "      <th>text</th>\n",
       "    </tr>\n",
       "  </thead>\n",
       "  <tbody>\n",
       "    <tr>\n",
       "      <th>0</th>\n",
       "      <td>0</td>\n",
       "      <td>@switchfoot http://twitpic.com/2y1zl - Awww, t...</td>\n",
       "    </tr>\n",
       "    <tr>\n",
       "      <th>1</th>\n",
       "      <td>0</td>\n",
       "      <td>is upset that he can't update his Facebook by ...</td>\n",
       "    </tr>\n",
       "    <tr>\n",
       "      <th>2</th>\n",
       "      <td>0</td>\n",
       "      <td>@Kenichan I dived many times for the ball. Man...</td>\n",
       "    </tr>\n",
       "    <tr>\n",
       "      <th>3</th>\n",
       "      <td>0</td>\n",
       "      <td>my whole body feels itchy and like its on fire</td>\n",
       "    </tr>\n",
       "    <tr>\n",
       "      <th>4</th>\n",
       "      <td>0</td>\n",
       "      <td>@nationwideclass no, it's not behaving at all....</td>\n",
       "    </tr>\n",
       "  </tbody>\n",
       "</table>\n",
       "</div>"
      ],
      "text/plain": [
       "   target                                               text\n",
       "0       0  @switchfoot http://twitpic.com/2y1zl - Awww, t...\n",
       "1       0  is upset that he can't update his Facebook by ...\n",
       "2       0  @Kenichan I dived many times for the ball. Man...\n",
       "3       0    my whole body feels itchy and like its on fire \n",
       "4       0  @nationwideclass no, it's not behaving at all...."
      ]
     },
     "execution_count": 2,
     "metadata": {},
     "output_type": "execute_result"
    }
   ],
   "source": [
    "df_sentiment=pd.read_csv('data/Sentiment140.csv', encoding='latin-1', header=None, index_col=False)\n",
    "df_sentiment = df_sentiment[[0, 5]].rename(columns={0: \"target\", 5: \"text\"})\n",
    "df_sentiment.head()"
   ]
  },
  {
   "cell_type": "code",
   "execution_count": 3,
   "metadata": {},
   "outputs": [
    {
     "data": {
      "text/plain": [
       "target    0\n",
       "text      0\n",
       "dtype: int64"
      ]
     },
     "execution_count": 3,
     "metadata": {},
     "output_type": "execute_result"
    }
   ],
   "source": [
    "df_sentiment.isnull().sum()"
   ]
  },
  {
   "cell_type": "code",
   "execution_count": 4,
   "metadata": {},
   "outputs": [
    {
     "name": "stdout",
     "output_type": "stream",
     "text": [
      "<class 'pandas.core.frame.DataFrame'>\n",
      "RangeIndex: 1600000 entries, 0 to 1599999\n",
      "Data columns (total 2 columns):\n",
      " #   Column  Non-Null Count    Dtype \n",
      "---  ------  --------------    ----- \n",
      " 0   target  1600000 non-null  int64 \n",
      " 1   text    1600000 non-null  object\n",
      "dtypes: int64(1), object(1)\n",
      "memory usage: 24.4+ MB\n"
     ]
    }
   ],
   "source": [
    "# output the dataframe structure\n",
    "df_sentiment.info()"
   ]
  },
  {
   "cell_type": "code",
   "execution_count": 5,
   "metadata": {},
   "outputs": [
    {
     "data": {
      "text/plain": [
       "<AxesSubplot:>"
      ]
     },
     "execution_count": 5,
     "metadata": {},
     "output_type": "execute_result"
    },
    {
     "data": {
      "image/png": "[encoded data removed]",
      "text/plain": [
       "<Figure size 432x288 with 1 Axes>"
      ]
     },
     "metadata": {
      "needs_background": "light"
     },
     "output_type": "display_data"
    }
   ],
   "source": [
    "#Convert target to categorical\n",
    "df_sentiment['target'] = pd.Categorical(df_sentiment.target)\n",
    "df_sentiment['target'].unique()\n",
    "df_sentiment['target'].hist()"
   ]
  },
  {
   "cell_type": "markdown",
   "metadata": {},
   "source": [
    "In this dataset, target values describe the polarity of the tweet (0 = negative, 2 = neutral, 4 = positive). However, there are only negative and positive tags (0 and 4) so let's change those values to 0 = negative, 1 = positive"
   ]
  },
  {
   "cell_type": "code",
   "execution_count": 6,
   "metadata": {},
   "outputs": [
    {
     "data": {
      "text/plain": [
       "<AxesSubplot:>"
      ]
     },
     "execution_count": 6,
     "metadata": {},
     "output_type": "execute_result"
    },
    {
     "data": {
      "image/png": "[encoded data removed]",
      "text/plain": [
       "<Figure size 432x288 with 1 Axes>"
      ]
     },
     "metadata": {
      "needs_background": "light"
     },
     "output_type": "display_data"
    }
   ],
   "source": [
    "df_sentiment['target'] = df_sentiment['target'].replace(4,1) #Replace 4 (positive) by 1. Negative (0) remain the same\n",
    "df_sentiment['target'].hist()"
   ]
  },
  {
   "cell_type": "code",
   "execution_count": 7,
   "metadata": {},
   "outputs": [],
   "source": [
    "# # For testing purposes, get a sample of the data\n",
    "df_sentiment=df_sentiment.sample(500000)\n",
    "# df_sentiment['target'].hist()"
   ]
  },
  {
   "cell_type": "markdown",
   "metadata": {
    "tags": []
   },
   "source": [
    "## Hate Speech Data"
   ]
  },
  {
   "cell_type": "markdown",
   "metadata": {},
   "source": [
    "This dataset contains tweets tagged as Hate Speech, Offensive Language or Neither."
   ]
  },
  {
   "cell_type": "code",
   "execution_count": 26,
   "metadata": {},
   "outputs": [
    {
     "data": {
      "text/html": [
       "<div>\n",
       "<style scoped>\n",
       "    .dataframe tbody tr th:only-of-type {\n",
       "        vertical-align: middle;\n",
       "    }\n",
       "\n",
       "    .dataframe tbody tr th {\n",
       "        vertical-align: top;\n",
       "    }\n",
       "\n",
       "    .dataframe thead th {\n",
       "        text-align: right;\n",
       "    }\n",
       "</style>\n",
       "<table border=\"1\" class=\"dataframe\">\n",
       "  <thead>\n",
       "    <tr style=\"text-align: right;\">\n",
       "      <th></th>\n",
       "      <th>target</th>\n",
       "      <th>text</th>\n",
       "    </tr>\n",
       "  </thead>\n",
       "  <tbody>\n",
       "    <tr>\n",
       "      <th>0</th>\n",
       "      <td>2</td>\n",
       "      <td>!!! RT @mayasolovely: As a woman you shouldn't...</td>\n",
       "    </tr>\n",
       "    <tr>\n",
       "      <th>1</th>\n",
       "      <td>1</td>\n",
       "      <td>!!!!! RT @mleew17: boy dats cold...tyga dwn ba...</td>\n",
       "    </tr>\n",
       "    <tr>\n",
       "      <th>2</th>\n",
       "      <td>1</td>\n",
       "      <td>!!!!!!! RT @UrKindOfBrand Dawg!!!! RT @80sbaby...</td>\n",
       "    </tr>\n",
       "    <tr>\n",
       "      <th>3</th>\n",
       "      <td>1</td>\n",
       "      <td>!!!!!!!!! RT @C_G_Anderson: @viva_based she lo...</td>\n",
       "    </tr>\n",
       "    <tr>\n",
       "      <th>4</th>\n",
       "      <td>1</td>\n",
       "      <td>!!!!!!!!!!!!! RT @ShenikaRoberts: The shit you...</td>\n",
       "    </tr>\n",
       "  </tbody>\n",
       "</table>\n",
       "</div>"
      ],
      "text/plain": [
       "   target                                               text\n",
       "0       2  !!! RT @mayasolovely: As a woman you shouldn't...\n",
       "1       1  !!!!! RT @mleew17: boy dats cold...tyga dwn ba...\n",
       "2       1  !!!!!!! RT @UrKindOfBrand Dawg!!!! RT @80sbaby...\n",
       "3       1  !!!!!!!!! RT @C_G_Anderson: @viva_based she lo...\n",
       "4       1  !!!!!!!!!!!!! RT @ShenikaRoberts: The shit you..."
      ]
     },
     "execution_count": 26,
     "metadata": {},
     "output_type": "execute_result"
    }
   ],
   "source": [
    "df_hate=pd.read_csv('data/HateSpeech_tweets.csv', encoding='latin-1', usecols  = [\"class\", \"tweet\"])\n",
    "df_hate = df_hate.rename(columns={\"class\": \"target\", \"tweet\": \"text\"})\n",
    "df_hate.head()"
   ]
  },
  {
   "cell_type": "code",
   "execution_count": 27,
   "metadata": {},
   "outputs": [
    {
     "name": "stdout",
     "output_type": "stream",
     "text": [
      "<class 'pandas.core.frame.DataFrame'>\n",
      "RangeIndex: 24783 entries, 0 to 24782\n",
      "Data columns (total 2 columns):\n",
      " #   Column  Non-Null Count  Dtype \n",
      "---  ------  --------------  ----- \n",
      " 0   target  24783 non-null  int64 \n",
      " 1   text    24783 non-null  object\n",
      "dtypes: int64(1), object(1)\n",
      "memory usage: 387.4+ KB\n"
     ]
    }
   ],
   "source": [
    "df_hate.info()"
   ]
  },
  {
   "cell_type": "code",
   "execution_count": 10,
   "metadata": {},
   "outputs": [
    {
     "data": {
      "text/plain": [
       "target    0\n",
       "text      0\n",
       "dtype: int64"
      ]
     },
     "execution_count": 10,
     "metadata": {},
     "output_type": "execute_result"
    }
   ],
   "source": [
    "df_hate.isnull().sum()"
   ]
  },
  {
   "cell_type": "code",
   "execution_count": 28,
   "metadata": {},
   "outputs": [
    {
     "data": {
      "text/plain": [
       "<AxesSubplot:>"
      ]
     },
     "execution_count": 28,
     "metadata": {},
     "output_type": "execute_result"
    },
    {
     "data": {
      "image/png": "[encoded data removed]",
      "text/plain": [
       "<Figure size 432x288 with 1 Axes>"
      ]
     },
     "metadata": {
      "needs_background": "light"
     },
     "output_type": "display_data"
    }
   ],
   "source": [
    "#Convert target to categorical\n",
    "df_hate['target'] = pd.Categorical(df_hate.target)\n",
    "df_hate['target'].unique()\n",
    "df_hate['target'].hist()"
   ]
  },
  {
   "cell_type": "markdown",
   "metadata": {},
   "source": [
    "In this dataset, target values describe the type of the tweet (0 - hate speech, 1 - offensive language, 2 - neither). \n",
    "\n",
    "However, for the desired task we are only interested in retrieving the hate speech and offensive language and identify a Negative Sentiment. \n",
    "\n",
    "\n",
    "Thus, we will remove the non-offensive text rows (tagged as 2-neither) and combine hate speech (0) and offensive language (1) into the same category 0, which is the value we used when traning the model to tag a Negative sentiment."
   ]
  },
  {
   "cell_type": "code",
   "execution_count": 29,
   "metadata": {},
   "outputs": [
    {
     "data": {
      "text/plain": [
       "<AxesSubplot:>"
      ]
     },
     "execution_count": 29,
     "metadata": {},
     "output_type": "execute_result"
    },
    {
     "data": {
      "image/png": "[encoded data removed]",
      "text/plain": [
       "<Figure size 432x288 with 1 Axes>"
      ]
     },
     "metadata": {
      "needs_background": "light"
     },
     "output_type": "display_data"
    }
   ],
   "source": [
    "df_hate['target'] = df_hate['target'].replace(1,0) #Replace 1 (positive) by 0 to group hate speech and offensive language teweet into the same category\n",
    "df_hate['target'] = df_hate['target'].replace(2,1) #Replace 2 (neither) by 1\n",
    "#df_hate = df_hate[df_hate['target'] == 0] #Keep only the rows with hate/offensive tweets\n",
    "df_hate['target'].hist()"
   ]
  },
  {
   "cell_type": "code",
   "execution_count": 30,
   "metadata": {},
   "outputs": [],
   "source": [
    "# Separate text from labels\n",
    "X_hate=df_hate['text']\n",
    "y_hate=df_hate['target']"
   ]
  },
  {
   "cell_type": "markdown",
   "metadata": {},
   "source": [
    "## Data Cleaning Pipeline"
   ]
  },
  {
   "cell_type": "code",
   "execution_count": 31,
   "metadata": {},
   "outputs": [],
   "source": [
    "cleaning=[('cleaner', FunctionTransformer(data_cleaning))]\n",
    "data_cleaning_pipeline=Pipeline(cleaning)"
   ]
  },
  {
   "cell_type": "markdown",
   "metadata": {
    "tags": []
   },
   "source": [
    "## Sentiment Data Train/Test Split"
   ]
  },
  {
   "cell_type": "markdown",
   "metadata": {},
   "source": [
    "The sentiment data will be used to train our classification models, so we ned to split it into train, validation and test."
   ]
  },
  {
   "cell_type": "code",
   "execution_count": 15,
   "metadata": {},
   "outputs": [
    {
     "data": {
      "text/plain": [
       "(375000, 75000, 50000)"
      ]
     },
     "execution_count": 15,
     "metadata": {},
     "output_type": "execute_result"
    }
   ],
   "source": [
    "# Split in training set and, testing set and separate labels from data\n",
    "X_sentiment=df_sentiment['text']\n",
    "y_sentiment=df_sentiment['target']\n",
    "\n",
    "train_ratio = 0.75\n",
    "validation_ratio = 0.15\n",
    "test_ratio = 0.10\n",
    "\n",
    "# Split in training set and, testing set and separate labels from data\n",
    "X_train, X_test, y_train, y_test= train_test_split(X_sentiment, y_sentiment, test_size = 1 - train_ratio, random_state = 0)\n",
    "X_test, X_val, y_test, y_val = train_test_split(X_test, y_test, test_size=validation_ratio/(test_ratio + validation_ratio), random_state = 0)\n",
    "\n",
    "len(X_train), len(X_val), len(X_test)"
   ]
  },
  {
   "cell_type": "markdown",
   "metadata": {},
   "source": [
    "## Sentiment Data Cleaning"
   ]
  },
  {
   "cell_type": "code",
   "execution_count": 16,
   "metadata": {},
   "outputs": [
    {
     "name": "stdout",
     "output_type": "stream",
     "text": [
      "55.25643467903137\n"
     ]
    }
   ],
   "source": [
    "t1 = time.time()\n",
    "\n",
    "X_train_clean=data_cleaning_pipeline.fit_transform(X_train)\n",
    "\n",
    "t2 = time.time()\n",
    "print(t2 - t1)"
   ]
  },
  {
   "cell_type": "code",
   "execution_count": 17,
   "metadata": {},
   "outputs": [
    {
     "name": "stdout",
     "output_type": "stream",
     "text": [
      "10.3323392868042\n"
     ]
    }
   ],
   "source": [
    "t1 = time.time()\n",
    "\n",
    "X_val_clean=data_cleaning_pipeline.fit_transform(X_val)\n",
    "\n",
    "t2 = time.time()\n",
    "print(t2 - t1)"
   ]
  },
  {
   "cell_type": "code",
   "execution_count": 18,
   "metadata": {},
   "outputs": [
    {
     "name": "stdout",
     "output_type": "stream",
     "text": [
      "6.7755186557769775\n"
     ]
    }
   ],
   "source": [
    "t1 = time.time()\n",
    "\n",
    "X_test_clean=data_cleaning_pipeline.fit_transform(X_test)\n",
    "\n",
    "t2 = time.time()\n",
    "print(t2 - t1)"
   ]
  },
  {
   "cell_type": "markdown",
   "metadata": {},
   "source": [
    "## Hate Speech Data Cleaning Pipeline"
   ]
  },
  {
   "cell_type": "markdown",
   "metadata": {},
   "source": [
    "Hate Speech data will only be used to evaluate the performance of the different models on hate speech. It wont be involved in the training phase."
   ]
  },
  {
   "cell_type": "code",
   "execution_count": 32,
   "metadata": {},
   "outputs": [
    {
     "name": "stdout",
     "output_type": "stream",
     "text": [
      "3.535792589187622\n"
     ]
    }
   ],
   "source": [
    "t1 = time.time()\n",
    "\n",
    "X_hate_clean=data_cleaning_pipeline.fit_transform(X_hate)\n",
    "\n",
    "t2 = time.time()\n",
    "print(t2 - t1)"
   ]
  },
  {
   "cell_type": "markdown",
   "metadata": {},
   "source": [
    "# 2. Sentiment Classification Models"
   ]
  },
  {
   "cell_type": "markdown",
   "metadata": {
    "tags": []
   },
   "source": [
    "## Naive Bayes Model"
   ]
  },
  {
   "cell_type": "markdown",
   "metadata": {},
   "source": [
    "### Further Preprocessing on Sentiment Data"
   ]
  },
  {
   "cell_type": "markdown",
   "metadata": {},
   "source": [
    "##### Build TFIDF pipeline"
   ]
  },
  {
   "cell_type": "code",
   "execution_count": 20,
   "metadata": {},
   "outputs": [],
   "source": [
    "# Build TfidfVectorizer Pipeline\n",
    "tfidf=[('vectorizer', TfidfVectorizer(max_features=100000, ngram_range=(1, 2)))] #TODO Check these values\n",
    "tfidf_pipeline=Pipeline(tfidf)"
   ]
  },
  {
   "cell_type": "markdown",
   "metadata": {},
   "source": [
    "##### Appply TFIDF pipeline on Sentiment Data"
   ]
  },
  {
   "cell_type": "code",
   "execution_count": 21,
   "metadata": {},
   "outputs": [
    {
     "name": "stdout",
     "output_type": "stream",
     "text": [
      "16.35336208343506\n"
     ]
    }
   ],
   "source": [
    "#Apply TFIDF pipeline to the training set\n",
    "t1 = time.time()\n",
    "\n",
    "X_train_transformed=tfidf_pipeline.fit_transform(X_train_clean)\n",
    "\n",
    "t2 = time.time()\n",
    "print(t2 - t1)"
   ]
  },
  {
   "cell_type": "code",
   "execution_count": 22,
   "metadata": {},
   "outputs": [
    {
     "name": "stdout",
     "output_type": "stream",
     "text": [
      "3.672372341156006\n"
     ]
    }
   ],
   "source": [
    "#Apply TFIDF pipeline to the validation set\n",
    "t1 = time.time()\n",
    "\n",
    "X_val_transformed=tfidf_pipeline.fit_transform(X_val_clean)\n",
    "\n",
    "t2 = time.time()\n",
    "print(t2 - t1)"
   ]
  },
  {
   "cell_type": "code",
   "execution_count": 23,
   "metadata": {},
   "outputs": [
    {
     "name": "stdout",
     "output_type": "stream",
     "text": [
      "1.2392818927764893\n"
     ]
    }
   ],
   "source": [
    "#Apply TFIDF pipeline to the test set\n",
    "t1 = time.time()\n",
    "\n",
    "X_test_transformed=tfidf_pipeline.transform(X_test_clean)\n",
    "\n",
    "t2 = time.time()\n",
    "print(t2 - t1)"
   ]
  },
  {
   "cell_type": "markdown",
   "metadata": {},
   "source": [
    "### Train Naive Bayes"
   ]
  },
  {
   "cell_type": "code",
   "execution_count": 24,
   "metadata": {},
   "outputs": [
    {
     "data": {
      "text/plain": [
       "MultinomialNB()"
      ]
     },
     "execution_count": 24,
     "metadata": {},
     "output_type": "execute_result"
    }
   ],
   "source": [
    "# Create a Naive Bayes model and fit the training data\n",
    "naive_bayes_model=MultinomialNB()\n",
    "naive_bayes_model.fit(X_train_transformed, y_train)"
   ]
  },
  {
   "cell_type": "markdown",
   "metadata": {},
   "source": [
    "### Evaluate Naive Bayes"
   ]
  },
  {
   "cell_type": "code",
   "execution_count": 25,
   "metadata": {},
   "outputs": [],
   "source": [
    "# Generate Predictions for Trin and Test sets\n",
    "nb_train_pred = naive_bayes_model.predict(X_train_transformed)\n",
    "nb_test_pred = naive_bayes_model.predict(X_test_transformed)\n",
    "nb_val_pred = naive_bayes_model.predict(X_val_transformed)"
   ]
  },
  {
   "cell_type": "code",
   "execution_count": 25,
   "metadata": {},
   "outputs": [
    {
     "name": "stdout",
     "output_type": "stream",
     "text": [
      "Results: Naive Bayes Model - sentiment, training set\n",
      "Accuracy: 0.829728\n",
      "F1: 0.8290203723142178\n",
      "Precision: 0.8347515665275396\n",
      "Recall: 0.8233673393402339\n",
      "\n",
      "Results: Naive Bayes Model - sentiment, validation set\n",
      "Accuracy: 0.5180933333333333\n",
      "F1: 0.5298593857720776\n",
      "Precision: 0.5166666666666667\n",
      "Recall: 0.5437434925381104\n",
      "\n",
      "Results: Naive Bayes Model - sentiment, testing set\n",
      "Accuracy: 0.51652\n",
      "F1: 0.5283306017326153\n",
      "Precision: 0.5131519102486355\n",
      "Recall: 0.5444346147659643\n"
     ]
    }
   ],
   "source": [
    "#labels = [\"negative\", \"positive\"]\n",
    "# Evaluate the Naive Bayes model\n",
    "print(\"Results: Naive Bayes Model - sentiment, training set\")\n",
    "evaluate(y_train, nb_train_pred)\n",
    "print()\n",
    "print(\"Results: Naive Bayes Model - sentiment, validation set\")\n",
    "evaluate(y_val, nb_val_pred)\n",
    "print()\n",
    "print(\"Results: Naive Bayes Model - sentiment, testing set\")\n",
    "evaluate(y_test, nb_test_pred)"
   ]
  },
  {
   "cell_type": "markdown",
   "metadata": {
    "tags": []
   },
   "source": [
    "## LSTM "
   ]
  },
  {
   "cell_type": "markdown",
   "metadata": {},
   "source": [
    "Referenced: \n",
    "* Keras Using pre-trained word embeddings: https://keras.io/examples/nlp/pretrained_word_embeddings/\n",
    "* https://towardsdatascience.com/sentiment-analysis-comparing-3-common-approaches-naive-bayes-lstm-and-vader-ab561f834f89\n"
   ]
  },
  {
   "cell_type": "code",
   "execution_count": null,
   "metadata": {},
   "outputs": [],
   "source": [
    "from keras.preprocessing.text import Tokenizer\n",
    "from keras_preprocessing.sequence import pad_sequences\n",
    "from tensorflow.keras.utils import to_categorical, plot_model\n",
    "from keras.models import Sequential\n",
    "from keras import layers"
   ]
  },
  {
   "cell_type": "markdown",
   "metadata": {},
   "source": [
    "### Further Preprocessing on Sentiment Data"
   ]
  },
  {
   "cell_type": "code",
   "execution_count": null,
   "metadata": {},
   "outputs": [
    {
     "name": "stdout",
     "output_type": "stream",
     "text": [
      "Vocab Size: 501018\n"
     ]
    }
   ],
   "source": [
    "tokenizer=Tokenizer() # change to the non-deprecated tf.keras.layers.TextVectorization \n",
    "tokenizer.fit_on_texts(X_train_clean)\n",
    "vocab_size=len(tokenizer.word_index)+1\n",
    "print(f'Vocab Size: {vocab_size}')"
   ]
  },
  {
   "cell_type": "code",
   "execution_count": null,
   "metadata": {},
   "outputs": [],
   "source": [
    "def lstm_preprocessing(X, y, tokenizer, maxlen = 40):\n",
    "    X_processed = pad_sequences(tokenizer.texts_to_sequences(X), maxlen)\n",
    "    y_processed = to_categorical(y)\n",
    "    return (X_processed, y_processed)\n",
    "\n",
    "# Apply preprocessing to train and validation sets\n",
    "X_train_processed, y_train_processed = lstm_preprocessing(X_train_clean, y_train, tokenizer)\n",
    "X_val_processed, y_val_processed = lstm_preprocessing(X_val_clean, y_val, tokenizer)"
   ]
  },
  {
   "cell_type": "markdown",
   "metadata": {},
   "source": [
    "#### GLoVE Embedding"
   ]
  },
  {
   "cell_type": "markdown",
   "metadata": {},
   "source": [
    "Download glove.twitter.27B from https://nlp.stanford.edu/projects/glove/"
   ]
  },
  {
   "cell_type": "code",
   "execution_count": null,
   "metadata": {},
   "outputs": [],
   "source": [
    "def get_embeddings_dict(file): \n",
    "    embeddings_dict = {}\n",
    "    with open(file, 'r' , encoding=\"utf-8\") as f:\n",
    "        for line in f:\n",
    "            word, coefs = line.split(maxsplit=1)\n",
    "            coefs = np.fromstring(coefs, \"f\", sep=\" \")\n",
    "            embeddings_dict[word] = coefs\n",
    "    return(embeddings_dict)\n",
    "\n",
    "path_to_glove_file = \"./data/glove.twitter.27B/glove.twitter.27B.50d.txt\"\n",
    "embeddings_dict = get_embeddings_dict(path_to_glove_file)"
   ]
  },
  {
   "cell_type": "code",
   "execution_count": null,
   "metadata": {},
   "outputs": [
    {
     "name": "stdout",
     "output_type": "stream",
     "text": [
      "Converted 118643 words (382374 misses)\n"
     ]
    }
   ],
   "source": [
    "# Create embedding matrix\n",
    "num_tokens = vocab_size\n",
    "embedding_dim = 50\n",
    "hits = 0 \n",
    "misses = 0\n",
    "\n",
    "embedding_matrix = np.zeros((num_tokens, embedding_dim))\n",
    "for word, i in tokenizer.word_index.items(): \n",
    "    embedding_vector = embeddings_dict.get(word)\n",
    "    if embedding_vector is not None: \n",
    "        embedding_matrix[i] = embedding_vector\n",
    "        hits += 1\n",
    "    else: \n",
    "        misses += 1\n",
    "        \n",
    "print(\"Converted %d words (%d misses)\" % (hits, misses))"
   ]
  },
  {
   "cell_type": "markdown",
   "metadata": {},
   "source": [
    "### LSTM Model with GLoVE embeddings"
   ]
  },
  {
   "cell_type": "markdown",
   "metadata": {},
   "source": [
    "### Train LSTM"
   ]
  },
  {
   "cell_type": "code",
   "execution_count": null,
   "metadata": {},
   "outputs": [
    {
     "name": "stderr",
     "output_type": "stream",
     "text": [
      "2022-12-06 21:54:08.650109: I tensorflow/core/platform/cpu_feature_guard.cc:193] This TensorFlow binary is optimized with oneAPI Deep Neural Network Library (oneDNN) to use the following CPU instructions in performance-critical operations:  SSE4.1 SSE4.2\n",
      "To enable them in other operations, rebuild TensorFlow with the appropriate compiler flags.\n"
     ]
    },
    {
     "name": "stdout",
     "output_type": "stream",
     "text": [
      "Model: \"sequential\"\n",
      "_________________________________________________________________\n",
      " Layer (type)                Output Shape              Param #   \n",
      "=================================================================\n",
      " embedding (Embedding)       (None, 40, 50)            25050900  \n",
      "                                                                 \n",
      " dropout (Dropout)           (None, 40, 50)            0         \n",
      "                                                                 \n",
      " lstm (LSTM)                 (None, 100)               60400     \n",
      "                                                                 \n",
      " dense (Dense)               (None, 2)                 202       \n",
      "                                                                 \n",
      "=================================================================\n",
      "Total params: 25,111,502\n",
      "Trainable params: 60,602\n",
      "Non-trainable params: 25,050,900\n",
      "_________________________________________________________________\n",
      "Epoch 1/5\n",
      "4688/4688 [==============================] - 305s 65ms/step - loss: 0.5600 - accuracy: 0.7057 - val_loss: 0.4767 - val_accuracy: 0.7687\n",
      "Epoch 2/5\n",
      "4688/4688 [==============================] - 305s 65ms/step - loss: 0.5290 - accuracy: 0.7308 - val_loss: 0.4586 - val_accuracy: 0.7808\n",
      "Epoch 3/5\n",
      "4688/4688 [==============================] - 315s 67ms/step - loss: 0.5179 - accuracy: 0.7391 - val_loss: 0.4540 - val_accuracy: 0.7842\n",
      "Epoch 4/5\n",
      "4688/4688 [==============================] - 346s 74ms/step - loss: 0.5108 - accuracy: 0.7445 - val_loss: 0.4469 - val_accuracy: 0.7895\n",
      "Epoch 5/5\n",
      "4688/4688 [==============================] - 361s 77ms/step - loss: 0.5069 - accuracy: 0.7476 - val_loss: 0.4439 - val_accuracy: 0.7909\n"
     ]
    }
   ],
   "source": [
    "model_GLoVE=Sequential()\n",
    "model_GLoVE.add(layers.Embedding(vocab_size, 50, weights=[embedding_matrix], input_length = 40, trainable=False))       \n",
    "model_GLoVE.add(layers.Dropout(0.5)) #added dropout layer to address overfitting\n",
    "model_GLoVE.add(layers.LSTM(100, dropout=0.2, recurrent_dropout=0.2))\n",
    "model_GLoVE.add(layers.Dense(2,activation='sigmoid'))\n",
    "model_GLoVE.compile(optimizer='adam',\\\n",
    "              loss='categorical_crossentropy',\\\n",
    "              metrics=['accuracy'])\n",
    "\n",
    "model_GLoVE.summary()\n",
    "\n",
    "history = model_GLoVE.fit(X_train_processed,\\\n",
    "              y_train_processed,\\\n",
    "              batch_size=256,\\\n",
    "              epochs=5,\\\n",
    "              validation_data=(X_val_processed,y_val_processed))"
   ]
  },
  {
   "cell_type": "markdown",
   "metadata": {},
   "source": [
    "### Evaluate LSTM Model"
   ]
  },
  {
   "cell_type": "code",
   "execution_count": null,
   "metadata": {},
   "outputs": [],
   "source": [
    "# Preprocess test data\n",
    "X_test_processed, y_test_processed = lstm_preprocessing(X_test_clean, y_test, tokenizer)"
   ]
  },
  {
   "cell_type": "code",
   "execution_count": null,
   "metadata": {},
   "outputs": [
    {
     "ename": "NameError",
     "evalue": "name 'model_GLoVE' is not defined",
     "output_type": "error",
     "traceback": [
      "\u001b[1;31m---------------------------------------------------------------------------\u001b[0m\n",
      "\u001b[1;31mNameError\u001b[0m                                 Traceback (most recent call last)\n",
      "\u001b[1;32md:\\Temp\\ipykernel_2180\\577024216.py\u001b[0m in \u001b[0;36m<module>\u001b[1;34m\u001b[0m\n",
      "\u001b[0;32m      1\u001b[0m \u001b[1;31m# Generate predictions for sentiment data\u001b[0m\u001b[1;33m\u001b[0m\u001b[1;33m\u001b[0m\u001b[1;33m\u001b[0m\u001b[0m\n",
      "\u001b[1;32m----> 2\u001b[1;33m \u001b[0mpredictions_sentiment\u001b[0m \u001b[1;33m=\u001b[0m \u001b[0mmodel_GLoVE\u001b[0m\u001b[1;33m.\u001b[0m\u001b[0mpredict\u001b[0m\u001b[1;33m(\u001b[0m\u001b[0mX_test_processed\u001b[0m\u001b[1;33m)\u001b[0m\u001b[1;33m\u001b[0m\u001b[1;33m\u001b[0m\u001b[0m\n",
      "\u001b[0m\u001b[0;32m      3\u001b[0m \u001b[0mpredictions_sentiment\u001b[0m \u001b[1;33m=\u001b[0m \u001b[0mprediction_probs_to_target\u001b[0m\u001b[1;33m(\u001b[0m\u001b[0mpredictions_sentiment\u001b[0m\u001b[1;33m)\u001b[0m\u001b[1;33m\u001b[0m\u001b[1;33m\u001b[0m\u001b[0m\n",
      "\n",
      "\u001b[1;31mNameError\u001b[0m: name 'model_GLoVE' is not defined"
     ]
    }
   ],
   "source": [
    "# Generate predictions for sentiment data\n",
    "predictions_sentiment = model_GLoVE.predict(X_test_processed)\n",
    "predictions_sentiment = prediction_probs_to_target(predictions_sentiment)"
   ]
  },
  {
   "cell_type": "code",
   "execution_count": null,
   "metadata": {},
   "outputs": [
    {
     "name": "stdout",
     "output_type": "stream",
     "text": [
      "Accuracy: 0.79016875\n",
      "F1: 0.7851836685072976\n",
      "Precision: 0.8058021643202353\n",
      "Recall: 0.7655940007237064\n"
     ]
    },
    {
     "data": {
      "image/png": "[encoded data removed]",
      "text/plain": [
       "<Figure size 640x480 with 2 Axes>"
      ]
     },
     "metadata": {},
     "output_type": "display_data"
    }
   ],
   "source": [
    "# Evaluate model on test data\n",
    "evaluate(y_test, predictions_sentiment)"
   ]
  },
  {
   "cell_type": "markdown",
   "metadata": {},
   "source": [
    "### LSTM Model without GLoVE embeddings"
   ]
  },
  {
   "cell_type": "markdown",
   "metadata": {},
   "source": [
    "#### Train"
   ]
  },
  {
   "cell_type": "code",
   "execution_count": null,
   "metadata": {},
   "outputs": [
    {
     "name": "stdout",
     "output_type": "stream",
     "text": [
      "Model: \"sequential_1\"\n",
      "_________________________________________________________________\n",
      " Layer (type)                Output Shape              Param #   \n",
      "=================================================================\n",
      " embedding_1 (Embedding)     (None, 40, 50)            25050900  \n",
      "                                                                 \n",
      " dropout_1 (Dropout)         (None, 40, 50)            0         \n",
      "                                                                 \n",
      " lstm_1 (LSTM)               (None, 100)               60400     \n",
      "                                                                 \n",
      " dense_1 (Dense)             (None, 2)                 202       \n",
      "                                                                 \n",
      "=================================================================\n",
      "Total params: 25,111,502\n",
      "Trainable params: 25,111,502\n",
      "Non-trainable params: 0\n",
      "_________________________________________________________________\n",
      "Epoch 1/2\n",
      "4688/4688 [==============================] - 708s 151ms/step - loss: 0.4395 - accuracy: 0.7945 - val_loss: 0.3980 - val_accuracy: 0.8196\n",
      "Epoch 2/2\n",
      "4688/4688 [==============================] - 756s 161ms/step - loss: 0.3714 - accuracy: 0.8349 - val_loss: 0.4014 - val_accuracy: 0.8176\n"
     ]
    }
   ],
   "source": [
    "model=Sequential()\n",
    "model.add(layers.Embedding(input_dim=vocab_size,\\\n",
    "                           output_dim=50,\\\n",
    "                           input_length=40)) \n",
    "model.add(layers.Dropout(0.5)) #added dropout layer to address overfitting\n",
    "model.add(layers.LSTM(100, dropout=0.2, recurrent_dropout=0.2))\n",
    "model.add(layers.Dense(2,activation='sigmoid'))\n",
    "model.compile(optimizer='adam',\\\n",
    "              loss='categorical_crossentropy',\\\n",
    "              metrics=['accuracy'])\n",
    "\n",
    "model.summary()\n",
    "\n",
    "history = model.fit(X_train_processed,\\\n",
    "              y_train_processed,\\\n",
    "              batch_size=256,\\\n",
    "              epochs=2,\\\n",
    "              validation_data=(X_val_processed,y_val_processed))"
   ]
  },
  {
   "cell_type": "markdown",
   "metadata": {},
   "source": [
    "#### Evaluate LSTM Model"
   ]
  },
  {
   "cell_type": "code",
   "execution_count": null,
   "metadata": {},
   "outputs": [],
   "source": [
    "# Preprocess test data\n",
    "X_test_processed, y_test_processed = lstm_preprocessing(X_test_clean, y_test, tokenizer)"
   ]
  },
  {
   "cell_type": "code",
   "execution_count": null,
   "metadata": {},
   "outputs": [
    {
     "name": "stdout",
     "output_type": "stream",
     "text": [
      "5000/5000 [==============================] - 27s 5ms/step\n"
     ]
    }
   ],
   "source": [
    "# Generate predictions for sentiment data\n",
    "predictions_sentiment = model.predict(X_test_processed)\n",
    "predictions_sentiment = prediction_probs_to_target(predictions_sentiment)"
   ]
  },
  {
   "cell_type": "code",
   "execution_count": null,
   "metadata": {},
   "outputs": [
    {
     "name": "stdout",
     "output_type": "stream",
     "text": [
      "Accuracy: 0.81904375\n",
      "F1: 0.8138992267494553\n",
      "Precision: 0.8393032319643662\n",
      "Recall: 0.7899878966347653\n"
     ]
    },
    {
     "data": {
      "image/png": "[encoded data removed]",
      "text/plain": [
       "<Figure size 640x480 with 2 Axes>"
      ]
     },
     "metadata": {},
     "output_type": "display_data"
    }
   ],
   "source": [
    "# Evaluate model on test data\n",
    "evaluate(y_test, predictions_sentiment)"
   ]
  },
  {
   "cell_type": "markdown",
   "metadata": {},
   "source": [
    "# 3. Application of Sentiment Classification Models on Hate Speech Data"
   ]
  },
  {
   "cell_type": "markdown",
   "metadata": {},
   "source": [
    "## Hate Speech Detection with Naive Bayes"
   ]
  },
  {
   "cell_type": "markdown",
   "metadata": {},
   "source": [
    "### Apply specific Naive Bayes preprocessing on the data"
   ]
  },
  {
   "cell_type": "code",
   "execution_count": 33,
   "metadata": {},
   "outputs": [
    {
     "name": "stdout",
     "output_type": "stream",
     "text": [
      "0.6141362190246582\n"
     ]
    }
   ],
   "source": [
    "#Apply TFIDF on Hate Speech data\n",
    "t1 = time.time()\n",
    "\n",
    "X_hate_transformed=tfidf_pipeline.transform(X_hate_clean)\n",
    "\n",
    "t2 = time.time()\n",
    "print(t2 - t1)"
   ]
  },
  {
   "cell_type": "markdown",
   "metadata": {},
   "source": [
    "### Make predictions"
   ]
  },
  {
   "cell_type": "code",
   "execution_count": 34,
   "metadata": {},
   "outputs": [
    {
     "name": "stdout",
     "output_type": "stream",
     "text": [
      "0.007001161575317383\n"
     ]
    }
   ],
   "source": [
    "# Generate predictions\n",
    "t1 = time.time()\n",
    "\n",
    "nb_hate_pred = naive_bayes_model.predict(X_hate_transformed)\n",
    "\n",
    "t2 = time.time()\n",
    "print(t2 - t1)"
   ]
  },
  {
   "cell_type": "markdown",
   "metadata": {},
   "source": [
    "### Evaluate"
   ]
  },
  {
   "cell_type": "code",
   "execution_count": 45,
   "metadata": {},
   "outputs": [
    {
     "ename": "TypeError",
     "evalue": "evaluate() missing 1 required positional argument: 'labels'",
     "output_type": "error",
     "traceback": [
      "\u001b[1;31m---------------------------------------------------------------------------\u001b[0m",
      "\u001b[1;31mTypeError\u001b[0m                                 Traceback (most recent call last)",
      "\u001b[1;32md:\\Temp\\ipykernel_8328\\4079491774.py\u001b[0m in \u001b[0;36m<module>\u001b[1;34m\u001b[0m\n\u001b[1;32m----> 1\u001b[1;33m \u001b[0mevaluate\u001b[0m\u001b[1;33m(\u001b[0m\u001b[0my_hate\u001b[0m\u001b[1;33m,\u001b[0m \u001b[0mnb_hate_pred\u001b[0m\u001b[1;33m)\u001b[0m\u001b[1;33m\u001b[0m\u001b[1;33m\u001b[0m\u001b[0m\n\u001b[0m",
      "\u001b[1;31mTypeError\u001b[0m: evaluate() missing 1 required positional argument: 'labels'"
     ]
    }
   ],
   "source": [
    "evaluate(y_hate, nb_hate_pred)"
   ]
  },
  {
   "cell_type": "markdown",
   "metadata": {},
   "source": [
    "## Hate Speech Detection with LSTM Model"
   ]
  },
  {
   "cell_type": "markdown",
   "metadata": {},
   "source": [
    "### LSTM with GloVe Embedings"
   ]
  },
  {
   "cell_type": "markdown",
   "metadata": {},
   "source": [
    "#### Apply specific LSTM preprocessing on the data"
   ]
  },
  {
   "cell_type": "code",
   "execution_count": 29,
   "metadata": {},
   "outputs": [],
   "source": [
    "X_hate_processed, y_hate_processed = lstm_preprocessing(X_hate_clean, y_hate, tokenizer)"
   ]
  },
  {
   "cell_type": "markdown",
   "metadata": {},
   "source": [
    "#### Make Predictions"
   ]
  },
  {
   "cell_type": "code",
   "execution_count": 30,
   "metadata": {},
   "outputs": [
    {
     "name": "stdout",
     "output_type": "stream",
     "text": [
      "775/775 [==============================] - 4s 5ms/step\n"
     ]
    }
   ],
   "source": [
    "predictions_hate = model_GLoVE.predict(X_hate_processed)\n",
    "predictions_hate = prediction_probs_to_target(predictions_hate)"
   ]
  },
  {
   "cell_type": "markdown",
   "metadata": {},
   "source": [
    "#### Evaluate"
   ]
  },
  {
   "cell_type": "code",
   "execution_count": 31,
   "metadata": {},
   "outputs": [
    {
     "name": "stdout",
     "output_type": "stream",
     "text": [
      "Accuracy: 0.5346406811120527\n",
      "F1: 0.32472627202997834\n",
      "Precision: 0.21469495199752245\n",
      "Recall: 0.6661061734326207\n"
     ]
    },
    {
     "data": {
      "image/png": "[encoded data removed]",
      "text/plain": [
       "<Figure size 640x480 with 2 Axes>"
      ]
     },
     "metadata": {},
     "output_type": "display_data"
    }
   ],
   "source": [
    "evaluate(y_hate, predictions_hate)"
   ]
  },
  {
   "cell_type": "markdown",
   "metadata": {},
   "source": [
    "### LSTM without GloVe Embedings"
   ]
  },
  {
   "cell_type": "markdown",
   "metadata": {},
   "source": [
    "#### Apply specific LSTM preprocessing on the data"
   ]
  },
  {
   "cell_type": "code",
   "execution_count": 36,
   "metadata": {},
   "outputs": [],
   "source": [
    "X_hate_processed, y_hate_processed = lstm_preprocessing(X_hate_clean, y_hate, tokenizer)"
   ]
  },
  {
   "cell_type": "markdown",
   "metadata": {},
   "source": [
    "#### Make Predictions"
   ]
  },
  {
   "cell_type": "code",
   "execution_count": 37,
   "metadata": {},
   "outputs": [
    {
     "name": "stdout",
     "output_type": "stream",
     "text": [
      "775/775 [==============================] - 4s 5ms/step\n"
     ]
    }
   ],
   "source": [
    "predictions_hate = model.predict(X_hate_processed)\n",
    "predictions_hate = prediction_probs_to_target(predictions_hate)"
   ]
  },
  {
   "cell_type": "markdown",
   "metadata": {},
   "source": [
    "#### Evaluate"
   ]
  },
  {
   "cell_type": "code",
   "execution_count": 38,
   "metadata": {},
   "outputs": [
    {
     "name": "stdout",
     "output_type": "stream",
     "text": [
      "Accuracy: 0.4868659968526813\n",
      "F1: 0.27608584277338194\n",
      "Precision: 0.18091614443449716\n",
      "Recall: 0.5825126110977661\n"
     ]
    },
    {
     "data": {
      "image/png": "[encoded data removed]",
      "text/plain": [
       "<Figure size 640x480 with 2 Axes>"
      ]
     },
     "metadata": {},
     "output_type": "display_data"
    }
   ],
   "source": [
    "evaluate(y_hate, predictions_hate)"
   ]
  },
  {
   "cell_type": "markdown",
   "metadata": {},
   "source": [
    "## Hate Speech Detection with VADER"
   ]
  },
  {
   "cell_type": "code",
   "execution_count": 39,
   "metadata": {},
   "outputs": [],
   "source": [
    "import pandas as pd\n",
    "from vaderSentiment.vaderSentiment import SentimentIntensityAnalyzer\n",
    "from matplotlib import pyplot as plt"
   ]
  },
  {
   "cell_type": "markdown",
   "metadata": {},
   "source": [
    "According to the academic paper on VADER, the Valence score is measured on a scale from -4 to +4, where -4 stands for the most 'Negative' sentiment and +4 for the most 'Positive' sentiment. Let's set the following ranges for defining the polarity of the text:\n",
    "\n",
    "- From -4 to 0: Negative --> 0\n",
    "- From 0 to 4: Positive --> 1"
   ]
  },
  {
   "cell_type": "code",
   "execution_count": 40,
   "metadata": {},
   "outputs": [],
   "source": [
    "def apply_vader(data, threshold = 0, plot = True, evaluate = True):\n",
    "    analyzer = SentimentIntensityAnalyzer()\n",
    "    data['vader'] = data.apply(lambda x: analyzer.polarity_scores(x['text'])['compound'], axis=1)\n",
    "    if plot: \n",
    "        fig, ax = plt.subplots(figsize =(5, 3))\n",
    "        ax.hist(data['vader'])\n",
    "        plt.show()\n",
    "    if evaluate: \n",
    "        data['predicted_target']=data.apply(lambda x: 0 if x['vader'] <= threshold else 1, axis=1)\n",
    "        accuracy = accuracy_score(data.dropna()[\"target\"].values, data.dropna()[\"predicted_target\"].values)\n",
    "        f1 = f1_score(data.dropna()[\"target\"].values, data.dropna()[\"predicted_target\"].values)\n",
    "        precision = precision_score(data.dropna()[\"target\"].values, data.dropna()[\"predicted_target\"].values)\n",
    "        recall = recall_score(data.dropna()[\"target\"].values, data.dropna()[\"predicted_target\"].values)\n",
    "        plot_confusion_matrix(data.dropna()[\"target\"].values, data.dropna()[\"predicted_target\"].values)\n",
    "        print(f'Accuracy: {accuracy}')    \n",
    "        print(f'F1: {f1}')   \n",
    "        print(f'Precision: {precision}')    \n",
    "        print(f'Recall: {recall}')  "
   ]
  },
  {
   "cell_type": "markdown",
   "metadata": {
    "tags": []
   },
   "source": [
    "### Evaluate VADER on Sentiment Data"
   ]
  },
  {
   "cell_type": "code",
   "execution_count": 41,
   "metadata": {},
   "outputs": [
    {
     "data": {
      "image/png": "[encoded data removed]",
      "text/plain": [
       "<Figure size 500x300 with 1 Axes>"
      ]
     },
     "metadata": {},
     "output_type": "display_data"
    },
    {
     "name": "stdout",
     "output_type": "stream",
     "text": [
      "Accuracy: 0.6525475\n",
      "F1: 0.6431759626901021\n",
      "Precision: 0.6610046729588458\n",
      "Recall: 0.62628375\n"
     ]
    },
    {
     "data": {
      "image/png": "[encoded data removed]",
      "text/plain": [
       "<Figure size 640x480 with 2 Axes>"
      ]
     },
     "metadata": {},
     "output_type": "display_data"
    }
   ],
   "source": [
    "df_vader_sentiment = df_sentiment\n",
    "apply_vader(df_vader_sentiment)"
   ]
  },
  {
   "cell_type": "markdown",
   "metadata": {},
   "source": [
    "### Evaluate VADER on Hate Speech Data"
   ]
  },
  {
   "cell_type": "code",
   "execution_count": 42,
   "metadata": {},
   "outputs": [
    {
     "data": {
      "image/png": "[encoded data removed]",
      "text/plain": [
       "<Figure size 500x300 with 1 Axes>"
      ]
     },
     "metadata": {},
     "output_type": "display_data"
    },
    {
     "name": "stdout",
     "output_type": "stream",
     "text": [
      "Accuracy: 0.7401041036194166\n",
      "F1: 0.33823076132744273\n",
      "Precision: 0.29551166965888687\n",
      "Recall: 0.3953879413884218\n"
     ]
    },
    {
     "data": {
      "image/png": "[encoded data removed]",
      "text/plain": [
       "<Figure size 640x480 with 2 Axes>"
      ]
     },
     "metadata": {},
     "output_type": "display_data"
    }
   ],
   "source": [
    "df_vader_hate = df_hate \n",
    "apply_vader(df_vader_hate)"
   ]
  }
 ],
 "metadata": {
  "kernelspec": {
   "display_name": "Python 3 (ipykernel)",
   "language": "python",
   "name": "python3"
  },
  "language_info": {
   "codemirror_mode": {
    "name": "ipython",
    "version": 3
   },
   "file_extension": ".py",
   "mimetype": "text/x-python",
   "name": "python",
   "nbconvert_exporter": "python",
   "pygments_lexer": "ipython3",
   "version": "3.7.9"
  },
  "vscode": {
   "interpreter": {
    "hash": "4a68d6c0066e8dcb68188937774911e93882d11496a351f23b3ed5d4f27effc2"
   }
  }
 },
 "nbformat": 4,
 "nbformat_minor": 4
}
