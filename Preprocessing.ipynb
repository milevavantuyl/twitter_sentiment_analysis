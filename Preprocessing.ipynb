{
 "cells": [
  {
   "cell_type": "markdown",
   "metadata": {},
   "source": [
    "# Sentiment Analysis and Hate-Speech Detection on Tweets"
   ]
  },
  {
   "cell_type": "markdown",
   "metadata": {},
   "source": [
    "Todo General: \n",
    "- Add function generate_confusion_matrix(y_true, y_pred)\n",
    "- Only apply data_cleaning once at the top of the notebook\n",
    "- Run this on the entire training set... I don't know how long it will take...\n",
    "\n",
    "Todo Naive Bayes: \n",
    "- Add validation set (like LSTM code) and perform hyperparameter tuning? \n",
    "\n",
    "Todo LSTM: \n",
    "- Reduce overfitting: Reduce the number of hidden units from 128 to between number of input units (50) and number of output classes (2), add dropout layers, etc. to reduce overfitting\n",
    "- Use GLoVE embeddings to speed up training process? \n",
    "\n",
    "Todo VADER: \n",
    "- Debug why we're getting an error when using the evaluate function in apply_vader function"
   ]
  },
  {
   "cell_type": "code",
   "execution_count": 1,
   "metadata": {},
   "outputs": [],
   "source": [
    "import pandas as pd\n",
    "import time\n",
    "from sklearn.feature_extraction.text import TfidfVectorizer\n",
    "from sklearn.preprocessing import FunctionTransformer\n",
    "from sklearn.naive_bayes import MultinomialNB\n",
    "from sklearn.pipeline import Pipeline\n",
    "from sklearn.model_selection import train_test_split\n",
    "from helper_functions import *\n",
    "import numpy as np\n",
    "from sklearn.metrics import accuracy_score, f1_score, precision_score, recall_score"
   ]
  },
  {
   "cell_type": "markdown",
   "metadata": {
    "tags": []
   },
   "source": [
    "## Sentiment Data EDA"
   ]
  },
  {
   "cell_type": "code",
   "execution_count": 2,
   "metadata": {},
   "outputs": [
    {
     "data": {
      "text/html": [
       "<div>\n",
       "<style scoped>\n",
       "    .dataframe tbody tr th:only-of-type {\n",
       "        vertical-align: middle;\n",
       "    }\n",
       "\n",
       "    .dataframe tbody tr th {\n",
       "        vertical-align: top;\n",
       "    }\n",
       "\n",
       "    .dataframe thead th {\n",
       "        text-align: right;\n",
       "    }\n",
       "</style>\n",
       "<table border=\"1\" class=\"dataframe\">\n",
       "  <thead>\n",
       "    <tr style=\"text-align: right;\">\n",
       "      <th></th>\n",
       "      <th>target</th>\n",
       "      <th>text</th>\n",
       "    </tr>\n",
       "  </thead>\n",
       "  <tbody>\n",
       "    <tr>\n",
       "      <th>0</th>\n",
       "      <td>0</td>\n",
       "      <td>@switchfoot http://twitpic.com/2y1zl - Awww, t...</td>\n",
       "    </tr>\n",
       "    <tr>\n",
       "      <th>1</th>\n",
       "      <td>0</td>\n",
       "      <td>is upset that he can't update his Facebook by ...</td>\n",
       "    </tr>\n",
       "    <tr>\n",
       "      <th>2</th>\n",
       "      <td>0</td>\n",
       "      <td>@Kenichan I dived many times for the ball. Man...</td>\n",
       "    </tr>\n",
       "    <tr>\n",
       "      <th>3</th>\n",
       "      <td>0</td>\n",
       "      <td>my whole body feels itchy and like its on fire</td>\n",
       "    </tr>\n",
       "    <tr>\n",
       "      <th>4</th>\n",
       "      <td>0</td>\n",
       "      <td>@nationwideclass no, it's not behaving at all....</td>\n",
       "    </tr>\n",
       "  </tbody>\n",
       "</table>\n",
       "</div>"
      ],
      "text/plain": [
       "   target                                               text\n",
       "0       0  @switchfoot http://twitpic.com/2y1zl - Awww, t...\n",
       "1       0  is upset that he can't update his Facebook by ...\n",
       "2       0  @Kenichan I dived many times for the ball. Man...\n",
       "3       0    my whole body feels itchy and like its on fire \n",
       "4       0  @nationwideclass no, it's not behaving at all...."
      ]
     },
     "execution_count": 2,
     "metadata": {},
     "output_type": "execute_result"
    }
   ],
   "source": [
    "df_sentiment=pd.read_csv('data/Sentiment140.csv', encoding='latin-1', header=None, index_col=False)\n",
    "df_sentiment = df_sentiment[[0, 5]].rename(columns={0: \"target\", 5: \"text\"})\n",
    "df_sentiment.head()"
   ]
  },
  {
   "cell_type": "code",
   "execution_count": 3,
   "metadata": {},
   "outputs": [
    {
     "data": {
      "text/plain": [
       "target    0\n",
       "text      0\n",
       "dtype: int64"
      ]
     },
     "execution_count": 3,
     "metadata": {},
     "output_type": "execute_result"
    }
   ],
   "source": [
    "df_sentiment.isnull().sum()"
   ]
  },
  {
   "cell_type": "code",
   "execution_count": 4,
   "metadata": {},
   "outputs": [
    {
     "name": "stdout",
     "output_type": "stream",
     "text": [
      "<class 'pandas.core.frame.DataFrame'>\n",
      "RangeIndex: 1600000 entries, 0 to 1599999\n",
      "Data columns (total 2 columns):\n",
      " #   Column  Non-Null Count    Dtype \n",
      "---  ------  --------------    ----- \n",
      " 0   target  1600000 non-null  int64 \n",
      " 1   text    1600000 non-null  object\n",
      "dtypes: int64(1), object(1)\n",
      "memory usage: 24.4+ MB\n"
     ]
    }
   ],
   "source": [
    "# output the dataframe structure\n",
    "df_sentiment.info()"
   ]
  },
  {
   "cell_type": "code",
   "execution_count": 5,
   "metadata": {},
   "outputs": [
    {
     "data": {
      "text/plain": [
       "<AxesSubplot: >"
      ]
     },
     "execution_count": 5,
     "metadata": {},
     "output_type": "execute_result"
    },
    {
     "data": {
      "image/png": "[encoded data removed]",
      "text/plain": [
       "<Figure size 640x480 with 1 Axes>"
      ]
     },
     "metadata": {},
     "output_type": "display_data"
    }
   ],
   "source": [
    "#Convert target to categorical\n",
    "df_sentiment['target'] = pd.Categorical(df_sentiment.target)\n",
    "df_sentiment['target'].unique()\n",
    "df_sentiment['target'].hist()"
   ]
  },
  {
   "cell_type": "markdown",
   "metadata": {},
   "source": [
    "In this dataset, target values describe the polarity of the tweet (0 = negative, 2 = neutral, 4 = positive). However, there are only negative and positive tags (0 and 4) so let's change those values to 0 = negative, 1 = positive"
   ]
  },
  {
   "cell_type": "code",
   "execution_count": 6,
   "metadata": {},
   "outputs": [
    {
     "data": {
      "text/plain": [
       "<AxesSubplot: >"
      ]
     },
     "execution_count": 6,
     "metadata": {},
     "output_type": "execute_result"
    },
    {
     "data": {
      "image/png": "[encoded data removed]",
      "text/plain": [
       "<Figure size 640x480 with 1 Axes>"
      ]
     },
     "metadata": {},
     "output_type": "display_data"
    }
   ],
   "source": [
    "df_sentiment['target'] = df_sentiment['target'].replace(4,1) #Replace 4 (positive) by 1. Negative (0) remain the same\n",
    "df_sentiment['target'].hist()"
   ]
  },
  {
   "cell_type": "code",
   "execution_count": 7,
   "metadata": {},
   "outputs": [
    {
     "data": {
      "text/plain": [
       "<AxesSubplot: >"
      ]
     },
     "execution_count": 7,
     "metadata": {},
     "output_type": "execute_result"
    },
    {
     "data": {
      "image/png": "[encoded data removed]",
      "text/plain": [
       "<Figure size 640x480 with 1 Axes>"
      ]
     },
     "metadata": {},
     "output_type": "display_data"
    }
   ],
   "source": [
    "# For testing purposes, get a sample of the data\n",
    "df_sentiment=df_sentiment.sample(500000)\n",
    "df_sentiment['target'].hist()"
   ]
  },
  {
   "cell_type": "markdown",
   "metadata": {
    "tags": []
   },
   "source": [
    "## Hate Speech Data EDA"
   ]
  },
  {
   "cell_type": "code",
   "execution_count": 8,
   "metadata": {},
   "outputs": [
    {
     "data": {
      "text/html": [
       "<div>\n",
       "<style scoped>\n",
       "    .dataframe tbody tr th:only-of-type {\n",
       "        vertical-align: middle;\n",
       "    }\n",
       "\n",
       "    .dataframe tbody tr th {\n",
       "        vertical-align: top;\n",
       "    }\n",
       "\n",
       "    .dataframe thead th {\n",
       "        text-align: right;\n",
       "    }\n",
       "</style>\n",
       "<table border=\"1\" class=\"dataframe\">\n",
       "  <thead>\n",
       "    <tr style=\"text-align: right;\">\n",
       "      <th></th>\n",
       "      <th>target</th>\n",
       "      <th>text</th>\n",
       "    </tr>\n",
       "  </thead>\n",
       "  <tbody>\n",
       "    <tr>\n",
       "      <th>0</th>\n",
       "      <td>2</td>\n",
       "      <td>!!! RT @mayasolovely: As a woman you shouldn't...</td>\n",
       "    </tr>\n",
       "    <tr>\n",
       "      <th>1</th>\n",
       "      <td>1</td>\n",
       "      <td>!!!!! RT @mleew17: boy dats cold...tyga dwn ba...</td>\n",
       "    </tr>\n",
       "    <tr>\n",
       "      <th>2</th>\n",
       "      <td>1</td>\n",
       "      <td>!!!!!!! RT @UrKindOfBrand Dawg!!!! RT @80sbaby...</td>\n",
       "    </tr>\n",
       "    <tr>\n",
       "      <th>3</th>\n",
       "      <td>1</td>\n",
       "      <td>!!!!!!!!! RT @C_G_Anderson: @viva_based she lo...</td>\n",
       "    </tr>\n",
       "    <tr>\n",
       "      <th>4</th>\n",
       "      <td>1</td>\n",
       "      <td>!!!!!!!!!!!!! RT @ShenikaRoberts: The shit you...</td>\n",
       "    </tr>\n",
       "  </tbody>\n",
       "</table>\n",
       "</div>"
      ],
      "text/plain": [
       "   target                                               text\n",
       "0       2  !!! RT @mayasolovely: As a woman you shouldn't...\n",
       "1       1  !!!!! RT @mleew17: boy dats cold...tyga dwn ba...\n",
       "2       1  !!!!!!! RT @UrKindOfBrand Dawg!!!! RT @80sbaby...\n",
       "3       1  !!!!!!!!! RT @C_G_Anderson: @viva_based she lo...\n",
       "4       1  !!!!!!!!!!!!! RT @ShenikaRoberts: The shit you..."
      ]
     },
     "execution_count": 8,
     "metadata": {},
     "output_type": "execute_result"
    }
   ],
   "source": [
    "df_hate=pd.read_csv('data/HateSpeech_tweets.csv', encoding='latin-1', usecols  = [\"class\", \"tweet\"])\n",
    "df_hate = df_hate.rename(columns={\"class\": \"target\", \"tweet\": \"text\"})\n",
    "df_hate.head()"
   ]
  },
  {
   "cell_type": "code",
   "execution_count": 9,
   "metadata": {},
   "outputs": [
    {
     "name": "stdout",
     "output_type": "stream",
     "text": [
      "<class 'pandas.core.frame.DataFrame'>\n",
      "RangeIndex: 24783 entries, 0 to 24782\n",
      "Data columns (total 2 columns):\n",
      " #   Column  Non-Null Count  Dtype \n",
      "---  ------  --------------  ----- \n",
      " 0   target  24783 non-null  int64 \n",
      " 1   text    24783 non-null  object\n",
      "dtypes: int64(1), object(1)\n",
      "memory usage: 387.4+ KB\n"
     ]
    }
   ],
   "source": [
    "df_hate.info()"
   ]
  },
  {
   "cell_type": "code",
   "execution_count": 10,
   "metadata": {},
   "outputs": [
    {
     "data": {
      "text/plain": [
       "target    0\n",
       "text      0\n",
       "dtype: int64"
      ]
     },
     "execution_count": 10,
     "metadata": {},
     "output_type": "execute_result"
    }
   ],
   "source": [
    "df_hate.isnull().sum()"
   ]
  },
  {
   "cell_type": "code",
   "execution_count": 11,
   "metadata": {},
   "outputs": [
    {
     "data": {
      "text/plain": [
       "<AxesSubplot: >"
      ]
     },
     "execution_count": 11,
     "metadata": {},
     "output_type": "execute_result"
    },
    {
     "data": {
      "image/png": "[encoded data removed]",
      "text/plain": [
       "<Figure size 640x480 with 1 Axes>"
      ]
     },
     "metadata": {},
     "output_type": "display_data"
    }
   ],
   "source": [
    "#Convert target to categorical\n",
    "df_hate['target'] = pd.Categorical(df_hate.target)\n",
    "df_hate['target'].unique()\n",
    "df_hate['target'].hist()"
   ]
  },
  {
   "cell_type": "markdown",
   "metadata": {},
   "source": [
    "UPDATE THIS IF WE ARE FINALLY KEEPING NON_OFFENSIVE TWEETS\n",
    "In this dataset, target values describe the type of the tweet (0 - hate speech, 1 - offensive language, 2 - neither). However, for the desired task we are only interested in retrieving the hate speech and offensive language and identify a Negative Sentiment. Thus, we will remove the non-offensive text rows (tagged as 2-neither) and combine hate speech (0) and offensive language (1) into the same category 0, which is the value we used when traning the model to tag a Negative sentiment."
   ]
  },
  {
   "cell_type": "code",
   "execution_count": 12,
   "metadata": {},
   "outputs": [
    {
     "data": {
      "text/plain": [
       "<AxesSubplot: >"
      ]
     },
     "execution_count": 12,
     "metadata": {},
     "output_type": "execute_result"
    },
    {
     "data": {
      "image/png": "[encoded data removed]",
      "text/plain": [
       "<Figure size 640x480 with 1 Axes>"
      ]
     },
     "metadata": {},
     "output_type": "display_data"
    }
   ],
   "source": [
    "df_hate['target'] = df_hate['target'].replace(1,0) #Replace 1 (positive) by 0 to group hate speech and offensive language teweet into the same category\n",
    "df_hate['target'] = df_hate['target'].replace(2,1) #Replace 1 (positive) by 0 to group hate speech and offensive language teweet into the same category\n",
    "#df_hate = df_hate[df_hate['target'] == 0] #Keep only the rows with hate/offensive tweets\n",
    "df_hate['target'].hist()"
   ]
  },
  {
   "cell_type": "code",
   "execution_count": 13,
   "metadata": {},
   "outputs": [],
   "source": [
    "# Separate text from labels\n",
    "X_hate=df_hate['text']\n",
    "y_hate=df_hate['target']"
   ]
  },
  {
   "cell_type": "markdown",
   "metadata": {
    "tags": []
   },
   "source": [
    "## Train/ Test Split: Sentiment Data"
   ]
  },
  {
   "cell_type": "code",
   "execution_count": 14,
   "metadata": {},
   "outputs": [],
   "source": [
    "# Split in training set and, testing set and separate labels from data\n",
    "X_sentiment=df_sentiment['text']\n",
    "y_sentiment=df_sentiment['target']\n",
    "X_train, X_test, y_train, y_test=train_test_split(X_sentiment, y_sentiment, random_state = 0)"
   ]
  },
  {
   "cell_type": "markdown",
   "metadata": {
    "tags": []
   },
   "source": [
    "## Naive Bayes Model"
   ]
  },
  {
   "cell_type": "markdown",
   "metadata": {},
   "source": [
    "### Preprocessing Sentiment Data"
   ]
  },
  {
   "cell_type": "code",
   "execution_count": 15,
   "metadata": {},
   "outputs": [],
   "source": [
    "estimators=[('cleaner', FunctionTransformer(data_cleaning)), #TODO Add stop words param\n",
    "            ('vectorizer', TfidfVectorizer(max_features=100000, ngram_range=(1, 2)))] #TODO Check these values\n",
    "preprocessing_pipeline=Pipeline(estimators)"
   ]
  },
  {
   "cell_type": "code",
   "execution_count": 16,
   "metadata": {},
   "outputs": [
    {
     "name": "stdout",
     "output_type": "stream",
     "text": [
      "43.09549283981323\n"
     ]
    }
   ],
   "source": [
    "#Preprocess the training set\n",
    "t1 = time.time()\n",
    "\n",
    "X_train_transformed=preprocessing_pipeline.fit_transform(X_train)\n",
    "\n",
    "t2 = time.time()\n",
    "print(t2 - t1)"
   ]
  },
  {
   "cell_type": "code",
   "execution_count": 17,
   "metadata": {},
   "outputs": [
    {
     "name": "stdout",
     "output_type": "stream",
     "text": [
      "13.16940689086914\n"
     ]
    }
   ],
   "source": [
    "#Preprocess test set\n",
    "t1 = time.time()\n",
    "\n",
    "X_test_transformed=preprocessing_pipeline.transform(X_test)\n",
    "\n",
    "t2 = time.time()\n",
    "print(t2 - t1)"
   ]
  },
  {
   "cell_type": "markdown",
   "metadata": {},
   "source": [
    "### Train Sentiment Model"
   ]
  },
  {
   "cell_type": "code",
   "execution_count": 18,
   "metadata": {},
   "outputs": [
    {
     "data": {
      "text/plain": [
       "MultinomialNB()"
      ]
     },
     "execution_count": 18,
     "metadata": {},
     "output_type": "execute_result"
    }
   ],
   "source": [
    "# Create a Naive Bayes model and fit the training data\n",
    "naive_bayes_model=MultinomialNB()\n",
    "naive_bayes_model.fit(X_train_transformed, y_train)"
   ]
  },
  {
   "cell_type": "markdown",
   "metadata": {},
   "source": [
    "### Evaluate Sentiment Model"
   ]
  },
  {
   "cell_type": "code",
   "execution_count": 19,
   "metadata": {},
   "outputs": [],
   "source": [
    "# Generate Predictions\n",
    "nb_train_pred = naive_bayes_model.predict(X_train_transformed)\n",
    "nb_test_pred = naive_bayes_model.predict(X_test_transformed)"
   ]
  },
  {
   "cell_type": "code",
   "execution_count": 20,
   "metadata": {},
   "outputs": [
    {
     "name": "stdout",
     "output_type": "stream",
     "text": [
      "Results: Naive Bayes Model - sentiment, training set\n",
      "Accuracy: 0.8289813333333333\n",
      "F1: 0.8267470634637619\n",
      "Precision: 0.8375122466516697\n",
      "Recall: 0.816255114397128\n",
      "\n",
      "Results: Naive Bayes Model - sentiment, testing set\n",
      "Accuracy: 0.79456\n",
      "F1: 0.7915415212273724\n",
      "Precision: 0.8018782585812734\n",
      "Recall: 0.7814678869672539\n"
     ]
    }
   ],
   "source": [
    "# Evaluate the Naive Bayes model\n",
    "print(\"Results: Naive Bayes Model - sentiment, training set\")\n",
    "evaluate(y_train, nb_train_pred)\n",
    "print()\n",
    "print(\"Results: Naive Bayes Model - sentiment, testing set\")\n",
    "evaluate(y_test, nb_test_pred)"
   ]
  },
  {
   "cell_type": "markdown",
   "metadata": {},
   "source": [
    "### Hate Speech Detection with Naive Bayes Model"
   ]
  },
  {
   "cell_type": "code",
   "execution_count": 21,
   "metadata": {},
   "outputs": [],
   "source": [
    "#Preprocess data\n",
    "X_transformed=preprocessing_pipeline.transform(X_hate)"
   ]
  },
  {
   "cell_type": "code",
   "execution_count": 22,
   "metadata": {},
   "outputs": [],
   "source": [
    "# Generate predictions\n",
    "nb_hate_pred = naive_bayes_model.predict(X_transformed)"
   ]
  },
  {
   "cell_type": "code",
   "execution_count": 23,
   "metadata": {},
   "outputs": [
    {
     "name": "stdout",
     "output_type": "stream",
     "text": [
      "Accuracy: 0.539523060162208\n",
      "F1: 0.31500600240096044\n",
      "Precision: 0.20997039289429464\n",
      "Recall: 0.6303146769156858\n"
     ]
    }
   ],
   "source": [
    "evaluate(y_hate, nb_hate_pred)"
   ]
  },
  {
   "cell_type": "markdown",
   "metadata": {
    "tags": []
   },
   "source": [
    "## LSTM "
   ]
  },
  {
   "cell_type": "code",
   "execution_count": 24,
   "metadata": {},
   "outputs": [],
   "source": [
    "from keras.preprocessing.text import Tokenizer\n",
    "from keras_preprocessing.sequence import pad_sequences\n",
    "from tensorflow.keras.utils import to_categorical, plot_model\n",
    "from keras.models import Sequential\n",
    "from keras import layers"
   ]
  },
  {
   "cell_type": "markdown",
   "metadata": {},
   "source": [
    "### Preprocessing Sentiment Data"
   ]
  },
  {
   "cell_type": "markdown",
   "metadata": {},
   "source": [
    "#### Cleaning"
   ]
  },
  {
   "cell_type": "code",
   "execution_count": 25,
   "metadata": {},
   "outputs": [
    {
     "name": "stdout",
     "output_type": "stream",
     "text": [
      "43.03365206718445\n"
     ]
    }
   ],
   "source": [
    "X=df_sentiment['text']\n",
    "y=df_sentiment['target']\n",
    "\n",
    "t1 = time.time()\n",
    "X = data_cleaning(X)\n",
    "t2 = time.time()\n",
    "print(t2-t1)"
   ]
  },
  {
   "cell_type": "markdown",
   "metadata": {},
   "source": [
    "#### Train/ Test Split"
   ]
  },
  {
   "cell_type": "code",
   "execution_count": 26,
   "metadata": {},
   "outputs": [],
   "source": [
    "# Split in training set and, testing set and separate labels from data\n",
    "X_train, X_test, y_train, y_test= train_test_split(X, y, random_state = 0)\n",
    "X_train, X_val, y_train, y_val = train_test_split(X_train, y_train, random_state = 0)"
   ]
  },
  {
   "cell_type": "markdown",
   "metadata": {},
   "source": [
    "#### Preprocessing"
   ]
  },
  {
   "cell_type": "code",
   "execution_count": 27,
   "metadata": {},
   "outputs": [
    {
     "name": "stdout",
     "output_type": "stream",
     "text": [
      "Vocab Size: 186613\n"
     ]
    }
   ],
   "source": [
    "tokenizer=Tokenizer() # change to the non-deprecated tf.keras.layers.TextVectorization \n",
    "tokenizer.fit_on_texts(X_train)\n",
    "vocab_size=len(tokenizer.word_index)+1\n",
    "print(f'Vocab Size: {vocab_size}')"
   ]
  },
  {
   "cell_type": "code",
   "execution_count": 28,
   "metadata": {},
   "outputs": [],
   "source": [
    "def lstm_preprocessing(X, y, tokenizer, maxlen = 40):\n",
    "    X_processed = pad_sequences(tokenizer.texts_to_sequences(X), maxlen)\n",
    "    y_processed = to_categorical(y)\n",
    "    return (X_processed, y_processed)\n",
    "\n",
    "# Apply preprocessing to train and validation sets\n",
    "X_train_processed, y_train_processed = lstm_preprocessing(X_train, y_train, tokenizer)\n",
    "X_val_processed, y_val_processed = lstm_preprocessing(X_val, y_val, tokenizer)"
   ]
  },
  {
   "cell_type": "markdown",
   "metadata": {},
   "source": [
    "### Train Sentiment Model"
   ]
  },
  {
   "cell_type": "code",
   "execution_count": 29,
   "metadata": {},
   "outputs": [
    {
     "name": "stderr",
     "output_type": "stream",
     "text": [
      "2022-12-05 11:46:47.297007: I tensorflow/core/platform/cpu_feature_guard.cc:193] This TensorFlow binary is optimized with oneAPI Deep Neural Network Library (oneDNN) to use the following CPU instructions in performance-critical operations:  SSE4.1 SSE4.2\n",
      "To enable them in other operations, rebuild TensorFlow with the appropriate compiler flags.\n"
     ]
    },
    {
     "name": "stdout",
     "output_type": "stream",
     "text": [
      "Epoch 1/3\n",
      "1099/1099 [==============================] - 164s 148ms/step - loss: 0.4643 - accuracy: 0.7792 - val_loss: 0.4288 - val_accuracy: 0.8004\n",
      "Epoch 2/3\n",
      "1099/1099 [==============================] - 157s 143ms/step - loss: 0.3350 - accuracy: 0.8553 - val_loss: 0.4718 - val_accuracy: 0.7869\n",
      "Epoch 3/3\n",
      "1099/1099 [==============================] - 156s 142ms/step - loss: 0.2301 - accuracy: 0.9056 - val_loss: 0.4986 - val_accuracy: 0.7876\n"
     ]
    }
   ],
   "source": [
    "model=Sequential()\n",
    "model.add(layers.Embedding(input_dim=vocab_size,\\\n",
    "                           output_dim=50,\\\n",
    "                           input_length=40)) \n",
    "model.add(layers.Bidirectional(layers.LSTM(128))) #tried 48 to address overfitting\n",
    "# model.add(layers.Dropout(0.4)) #added dropout layer to address overfitting\n",
    "model.add(layers.Dense(2,activation='softmax'))\n",
    "model.compile(optimizer='adam',\\\n",
    "              loss='categorical_crossentropy',\\\n",
    "              metrics=['accuracy'])\n",
    "\n",
    "history = model.fit(X_train_processed,\\\n",
    "              y_train_processed,\\\n",
    "              batch_size=256,\\\n",
    "              epochs=3,\\\n",
    "              validation_data=(X_val_processed,y_val_processed))"
   ]
  },
  {
   "cell_type": "code",
   "execution_count": 30,
   "metadata": {},
   "outputs": [
    {
     "name": "stdout",
     "output_type": "stream",
     "text": [
      "Model: \"sequential\"\n",
      "_________________________________________________________________\n",
      " Layer (type)                Output Shape              Param #   \n",
      "=================================================================\n",
      " embedding (Embedding)       (None, 40, 50)            9330650   \n",
      "                                                                 \n",
      " bidirectional (Bidirectiona  (None, 256)              183296    \n",
      " l)                                                              \n",
      "                                                                 \n",
      " dense (Dense)               (None, 2)                 514       \n",
      "                                                                 \n",
      "=================================================================\n",
      "Total params: 9,514,460\n",
      "Trainable params: 9,514,460\n",
      "Non-trainable params: 0\n",
      "_________________________________________________________________\n"
     ]
    }
   ],
   "source": [
    "model.summary()"
   ]
  },
  {
   "cell_type": "code",
   "execution_count": 31,
   "metadata": {},
   "outputs": [
    {
     "data": {
      "image/png": "[encoded data removed]",
      "text/plain": [
       "<IPython.core.display.Image object>"
      ]
     },
     "execution_count": 31,
     "metadata": {},
     "output_type": "execute_result"
    }
   ],
   "source": [
    "plot_model(model, 'test_plot.png', show_shapes=True)"
   ]
  },
  {
   "cell_type": "markdown",
   "metadata": {},
   "source": [
    "### Evaluate Sentiment Model"
   ]
  },
  {
   "cell_type": "code",
   "execution_count": 32,
   "metadata": {},
   "outputs": [],
   "source": [
    "# Preprocess test data\n",
    "X_test_processed, y_test_processed = lstm_preprocessing(X_test, y_test, tokenizer)"
   ]
  },
  {
   "cell_type": "code",
   "execution_count": 35,
   "metadata": {},
   "outputs": [
    {
     "name": "stdout",
     "output_type": "stream",
     "text": [
      "3907/3907 [==============================] - 37s 9ms/step\n"
     ]
    }
   ],
   "source": [
    "# Generate predictions for sentiment data\n",
    "predictions_sentiment = model.predict(X_test_processed)\n",
    "predictions_sentiment = prediction_probs_to_target(predictions_sentiment)"
   ]
  },
  {
   "cell_type": "code",
   "execution_count": 36,
   "metadata": {},
   "outputs": [
    {
     "name": "stdout",
     "output_type": "stream",
     "text": [
      "Accuracy: 0.788176\n",
      "F1: 0.7839447744630851\n",
      "Precision: 0.7984475508202716\n",
      "Recall: 0.7699594479796118\n"
     ]
    }
   ],
   "source": [
    "# Evaluate test data\n",
    "evaluate(y_test, predictions_sentiment)"
   ]
  },
  {
   "cell_type": "markdown",
   "metadata": {},
   "source": [
    "### Hate Speech Detection with LSTM Model"
   ]
  },
  {
   "cell_type": "code",
   "execution_count": 37,
   "metadata": {},
   "outputs": [],
   "source": [
    "X_hate_cleaned = data_cleaning(X_hate)\n",
    "X_hate_processed, y_hate_processed = lstm_preprocessing(X_hate_cleaned, y_hate, tokenizer)"
   ]
  },
  {
   "cell_type": "code",
   "execution_count": 38,
   "metadata": {},
   "outputs": [
    {
     "name": "stdout",
     "output_type": "stream",
     "text": [
      "775/775 [==============================] - 7s 9ms/step\n"
     ]
    }
   ],
   "source": [
    "predictions_hate = model.predict(X_hate_processed)\n",
    "predictions_hate = prediction_probs_to_target(predictions_hate)"
   ]
  },
  {
   "cell_type": "code",
   "execution_count": 39,
   "metadata": {},
   "outputs": [
    {
     "name": "stdout",
     "output_type": "stream",
     "text": [
      "accuracy: 0.5221724569261187\n",
      "f1 score: 0.2753640925223351\n"
     ]
    }
   ],
   "source": [
    "print(f\"accuracy: {accuracy_score(y_hate, predictions_hate)}\")\n",
    "print(f\"f1 score: {f1_score(y_hate, predictions_hate)}\")\n",
    "# evaluate(y_hate, predictions_hate)"
   ]
  },
  {
   "cell_type": "markdown",
   "metadata": {},
   "source": [
    "## VADER"
   ]
  },
  {
   "cell_type": "code",
   "execution_count": 40,
   "metadata": {},
   "outputs": [],
   "source": [
    "import pandas as pd\n",
    "from vaderSentiment.vaderSentiment import SentimentIntensityAnalyzer\n",
    "from matplotlib import pyplot as plt"
   ]
  },
  {
   "cell_type": "markdown",
   "metadata": {},
   "source": [
    "According to the academic paper on VADER, the Valence score is measured on a scale from -4 to +4, where -4 stands for the most 'Negative' sentiment and +4 for the most 'Positive' sentiment. Let's set the following ranges for defining the polarity of the text:\n",
    "\n",
    "- From -4 to 0: Negative --> 0\n",
    "- From 0 to 4: Positive --> 1"
   ]
  },
  {
   "cell_type": "code",
   "execution_count": 41,
   "metadata": {},
   "outputs": [],
   "source": [
    "def apply_vader(data, threshold = 0, plot = True, evaluate = True):\n",
    "    analyzer = SentimentIntensityAnalyzer()\n",
    "    data['vader'] = data.apply(lambda x: analyzer.polarity_scores(x['text'])['compound'], axis=1)\n",
    "    if plot: \n",
    "        fig, ax = plt.subplots(figsize =(5, 3))\n",
    "        ax.hist(data['vader'])\n",
    "        plt.show()\n",
    "    if evaluate: \n",
    "        data['predicted_target']=data.apply(lambda x: 0 if x['vader'] <= threshold else 1, axis=1)\n",
    "        accuracy = accuracy_score(data.dropna()[\"target\"].values, data.dropna()[\"predicted_target\"].values)\n",
    "        f1 = f1_score(data.dropna()[\"target\"].values, data.dropna()[\"predicted_target\"].values)\n",
    "        # y_true = data.dropna()[\"target\"].values\n",
    "        # y_pred =  data.dropna()[\"predicted_target\"].values\n",
    "        # evaluate(y_true, y_pred)\n",
    "        print(f'Accuracy: {accuracy}')    \n",
    "        print(f'F1: {f1}')    "
   ]
  },
  {
   "cell_type": "markdown",
   "metadata": {
    "tags": []
   },
   "source": [
    "### VADER on Sentiment Data"
   ]
  },
  {
   "cell_type": "code",
   "execution_count": 42,
   "metadata": {},
   "outputs": [
    {
     "data": {
      "image/png": "[encoded data removed]",
      "text/plain": [
       "<Figure size 500x300 with 1 Axes>"
      ]
     },
     "metadata": {},
     "output_type": "display_data"
    },
    {
     "name": "stdout",
     "output_type": "stream",
     "text": [
      "Accuracy: 0.652726\n",
      "F1: 0.6430343835123605\n"
     ]
    }
   ],
   "source": [
    "df_vader_sentiment = df_sentiment\n",
    "apply_vader(df_vader_sentiment)"
   ]
  },
  {
   "cell_type": "markdown",
   "metadata": {},
   "source": [
    "### VADER on Hate Speech Data"
   ]
  },
  {
   "cell_type": "code",
   "execution_count": 43,
   "metadata": {},
   "outputs": [
    {
     "data": {
      "image/png": "[encoded data removed]",
      "text/plain": [
       "<Figure size 500x300 with 1 Axes>"
      ]
     },
     "metadata": {},
     "output_type": "display_data"
    },
    {
     "name": "stdout",
     "output_type": "stream",
     "text": [
      "Accuracy: 0.7401041036194166\n",
      "F1: 0.33823076132744273\n"
     ]
    }
   ],
   "source": [
    "df_vader_hate = df_hate \n",
    "apply_vader(df_vader_hate)"
   ]
  },
  {
   "cell_type": "code",
   "execution_count": null,
   "metadata": {},
   "outputs": [],
   "source": []
  }
 ],
 "metadata": {
  "kernelspec": {
   "display_name": "Python 3 (ipykernel)",
   "language": "python",
   "name": "python3"
  },
  "language_info": {
   "codemirror_mode": {
    "name": "ipython",
    "version": 3
   },
   "file_extension": ".py",
   "mimetype": "text/x-python",
   "name": "python",
   "nbconvert_exporter": "python",
   "pygments_lexer": "ipython3",
   "version": "3.10.8"
  },
  "vscode": {
   "interpreter": {
    "hash": "4a68d6c0066e8dcb68188937774911e93882d11496a351f23b3ed5d4f27effc2"
   }
  }
 },
 "nbformat": 4,
 "nbformat_minor": 4
}
